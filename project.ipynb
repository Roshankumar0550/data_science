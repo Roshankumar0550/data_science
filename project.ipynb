{
 "metadata": {
  "language_info": {
   "codemirror_mode": {
    "name": "ipython",
    "version": 3
   },
   "file_extension": ".py",
   "mimetype": "text/x-python",
   "name": "python",
   "nbconvert_exporter": "python",
   "pygments_lexer": "ipython3",
   "version": "3.7.4-final"
  },
  "orig_nbformat": 2,
  "kernelspec": {
   "name": "Python 3.7.4 64-bit",
   "display_name": "Python 3.7.4 64-bit",
   "metadata": {
    "interpreter": {
     "hash": "969746ff93039433ddb17af212038e9e58e2156c8501764c8447b92be02d5584"
    }
   }
  }
 },
 "nbformat": 4,
 "nbformat_minor": 2,
 "cells": [
  {
   "cell_type": "code",
   "execution_count": 1,
   "metadata": {},
   "outputs": [],
   "source": [
    "import pandas as pd\n",
    "import numpy as np                     \n",
    "import seaborn as sns                  \n",
    "import matplotlib.pyplot as plt \n",
    "import seaborn as sn                   \n",
    "%matplotlib inline\n",
    "import warnings                        \n",
    "warnings.filterwarnings(\"ignore\")"
   ]
  },
  {
   "cell_type": "code",
   "execution_count": 2,
   "metadata": {},
   "outputs": [],
   "source": [
    "train = pd.read_csv('F:/data_science/project/train.csv')\n",
    "test = pd.read_csv('F:/data_science/project/test.csv')"
   ]
  },
  {
   "cell_type": "code",
   "execution_count": 3,
   "metadata": {},
   "outputs": [
    {
     "output_type": "execute_result",
     "data": {
      "text/plain": "Index([&#39;ID&#39;, &#39;age&#39;, &#39;job&#39;, &#39;marital&#39;, &#39;education&#39;, &#39;default&#39;, &#39;balance&#39;,\n       &#39;housing&#39;, &#39;loan&#39;, &#39;contact&#39;, &#39;day&#39;, &#39;month&#39;, &#39;duration&#39;, &#39;campaign&#39;,\n       &#39;pdays&#39;, &#39;previous&#39;, &#39;poutcome&#39;, &#39;subscribed&#39;],\n      dtype=&#39;object&#39;)"
     },
     "metadata": {},
     "execution_count": 3
    }
   ],
   "source": [
    "train.columns"
   ]
  },
  {
   "cell_type": "code",
   "execution_count": 4,
   "metadata": {},
   "outputs": [
    {
     "output_type": "execute_result",
     "data": {
      "text/plain": "Index([&#39;ID&#39;, &#39;age&#39;, &#39;job&#39;, &#39;marital&#39;, &#39;education&#39;, &#39;default&#39;, &#39;balance&#39;,\n       &#39;housing&#39;, &#39;loan&#39;, &#39;contact&#39;, &#39;day&#39;, &#39;month&#39;, &#39;duration&#39;, &#39;campaign&#39;,\n       &#39;pdays&#39;, &#39;previous&#39;, &#39;poutcome&#39;],\n      dtype=&#39;object&#39;)"
     },
     "metadata": {},
     "execution_count": 4
    }
   ],
   "source": [
    "test.columns"
   ]
  },
  {
   "cell_type": "code",
   "execution_count": 5,
   "metadata": {},
   "outputs": [
    {
     "output_type": "execute_result",
     "data": {
      "text/plain": "((31647, 18), (13564, 17))"
     },
     "metadata": {},
     "execution_count": 5
    }
   ],
   "source": [
    "train.shape,test.shape"
   ]
  },
  {
   "cell_type": "code",
   "execution_count": 6,
   "metadata": {},
   "outputs": [
    {
     "output_type": "execute_result",
     "data": {
      "text/plain": "ID             int64\nage            int64\njob           object\nmarital       object\neducation     object\ndefault       object\nbalance        int64\nhousing       object\nloan          object\ncontact       object\nday            int64\nmonth         object\nduration       int64\ncampaign       int64\npdays          int64\nprevious       int64\npoutcome      object\nsubscribed    object\ndtype: object"
     },
     "metadata": {},
     "execution_count": 6
    }
   ],
   "source": [
    "train.dtypes"
   ]
  },
  {
   "cell_type": "code",
   "execution_count": 8,
   "metadata": {},
   "outputs": [
    {
     "output_type": "execute_result",
     "data": {
      "text/plain": "      ID  age         job   marital  education default  balance housing loan  \\\n0  26110   56      admin.   married    unknown      no     1933      no   no   \n1  40576   31     unknown   married  secondary      no        3      no   no   \n2  15320   27    services   married  secondary      no      891     yes   no   \n3  43962   57  management  divorced   tertiary      no     3287      no   no   \n4  29842   31  technician   married  secondary      no      119     yes   no   \n\n     contact  day month  duration  campaign  pdays  previous poutcome  \\\n0  telephone   19   nov        44         2     -1         0  unknown   \n1   cellular   20   jul        91         2     -1         0  unknown   \n2   cellular   18   jul       240         1     -1         0  unknown   \n3   cellular   22   jun       867         1     84         3  success   \n4   cellular    4   feb       380         1     -1         0  unknown   \n\n  subscribed  \n0         no  \n1         no  \n2         no  \n3        yes  \n4         no  ",
      "text/html": "<div>\n<style scoped>\n    .dataframe tbody tr th:only-of-type {\n        vertical-align: middle;\n    }\n\n    .dataframe tbody tr th {\n        vertical-align: top;\n    }\n\n    .dataframe thead th {\n        text-align: right;\n    }\n</style>\n<table border=\"1\" class=\"dataframe\">\n  <thead>\n    <tr style=\"text-align: right;\">\n      <th></th>\n      <th>ID</th>\n      <th>age</th>\n      <th>job</th>\n      <th>marital</th>\n      <th>education</th>\n      <th>default</th>\n      <th>balance</th>\n      <th>housing</th>\n      <th>loan</th>\n      <th>contact</th>\n      <th>day</th>\n      <th>month</th>\n      <th>duration</th>\n      <th>campaign</th>\n      <th>pdays</th>\n      <th>previous</th>\n      <th>poutcome</th>\n      <th>subscribed</th>\n    </tr>\n  </thead>\n  <tbody>\n    <tr>\n      <td>0</td>\n      <td>26110</td>\n      <td>56</td>\n      <td>admin.</td>\n      <td>married</td>\n      <td>unknown</td>\n      <td>no</td>\n      <td>1933</td>\n      <td>no</td>\n      <td>no</td>\n      <td>telephone</td>\n      <td>19</td>\n      <td>nov</td>\n      <td>44</td>\n      <td>2</td>\n      <td>-1</td>\n      <td>0</td>\n      <td>unknown</td>\n      <td>no</td>\n    </tr>\n    <tr>\n      <td>1</td>\n      <td>40576</td>\n      <td>31</td>\n      <td>unknown</td>\n      <td>married</td>\n      <td>secondary</td>\n      <td>no</td>\n      <td>3</td>\n      <td>no</td>\n      <td>no</td>\n      <td>cellular</td>\n      <td>20</td>\n      <td>jul</td>\n      <td>91</td>\n      <td>2</td>\n      <td>-1</td>\n      <td>0</td>\n      <td>unknown</td>\n      <td>no</td>\n    </tr>\n    <tr>\n      <td>2</td>\n      <td>15320</td>\n      <td>27</td>\n      <td>services</td>\n      <td>married</td>\n      <td>secondary</td>\n      <td>no</td>\n      <td>891</td>\n      <td>yes</td>\n      <td>no</td>\n      <td>cellular</td>\n      <td>18</td>\n      <td>jul</td>\n      <td>240</td>\n      <td>1</td>\n      <td>-1</td>\n      <td>0</td>\n      <td>unknown</td>\n      <td>no</td>\n    </tr>\n    <tr>\n      <td>3</td>\n      <td>43962</td>\n      <td>57</td>\n      <td>management</td>\n      <td>divorced</td>\n      <td>tertiary</td>\n      <td>no</td>\n      <td>3287</td>\n      <td>no</td>\n      <td>no</td>\n      <td>cellular</td>\n      <td>22</td>\n      <td>jun</td>\n      <td>867</td>\n      <td>1</td>\n      <td>84</td>\n      <td>3</td>\n      <td>success</td>\n      <td>yes</td>\n    </tr>\n    <tr>\n      <td>4</td>\n      <td>29842</td>\n      <td>31</td>\n      <td>technician</td>\n      <td>married</td>\n      <td>secondary</td>\n      <td>no</td>\n      <td>119</td>\n      <td>yes</td>\n      <td>no</td>\n      <td>cellular</td>\n      <td>4</td>\n      <td>feb</td>\n      <td>380</td>\n      <td>1</td>\n      <td>-1</td>\n      <td>0</td>\n      <td>unknown</td>\n      <td>no</td>\n    </tr>\n  </tbody>\n</table>\n</div>"
     },
     "metadata": {},
     "execution_count": 8
    }
   ],
   "source": [
    "train.head()"
   ]
  },
  {
   "cell_type": "code",
   "execution_count": 9,
   "metadata": {},
   "outputs": [
    {
     "output_type": "execute_result",
     "data": {
      "text/plain": "no     27932\nyes     3715\nName: subscribed, dtype: int64"
     },
     "metadata": {},
     "execution_count": 9
    }
   ],
   "source": [
    "train['subscribed'].value_counts()"
   ]
  },
  {
   "cell_type": "code",
   "execution_count": null,
   "metadata": {},
   "outputs": [],
   "source": [
    "  "
   ]
  }
 ]
}